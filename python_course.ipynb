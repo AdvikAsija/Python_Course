{
  "nbformat": 4,
  "nbformat_minor": 0,
  "metadata": {
    "colab": {
      "provenance": [],
      "collapsed_sections": [
        "-HwuzR_kt0ys",
        "bgYqKw_NuW8M",
        "e-NqPR9LviGC",
        "OzvlZ3yizLqh",
        "T--W8aSd0D6F",
        "kJj84sgQ0uvw",
        "RUGdWZaJ2CvC",
        "2zT3YUxj2Qaw",
        "OFMAO-ax5v3A",
        "02yrp0oZAB7J",
        "wI-HNePAxUku",
        "1EJE0I7K0gAb",
        "HUBXkKY61Bjm",
        "bVBCqIG54StI",
        "Y7Z40PcR5FZH"
      ]
    },
    "kernelspec": {
      "name": "python3",
      "display_name": "Python 3"
    },
    "language_info": {
      "name": "python"
    }
  },
  "cells": [
    {
      "cell_type": "markdown",
      "source": [
        "# Basic Syntax "
      ],
      "metadata": {
        "id": "-HwuzR_kt0ys"
      }
    },
    {
      "cell_type": "markdown",
      "source": [
        "## Print"
      ],
      "metadata": {
        "id": "bgYqKw_NuW8M"
      }
    },
    {
      "cell_type": "code",
      "source": [
        "print(0)"
      ],
      "metadata": {
        "colab": {
          "base_uri": "https://localhost:8080/"
        },
        "id": "iRHOQJ9Guejn",
        "outputId": "a317892b-54af-44f7-c04c-6accc10ffaa1"
      },
      "execution_count": null,
      "outputs": [
        {
          "output_type": "stream",
          "name": "stdout",
          "text": [
            "0\n"
          ]
        }
      ]
    },
    {
      "cell_type": "code",
      "source": [
        "print(\"string\")"
      ],
      "metadata": {
        "colab": {
          "base_uri": "https://localhost:8080/"
        },
        "id": "gppvBAScuxdw",
        "outputId": "b6b68a60-bad9-47d5-9cb9-700be0bfe39e"
      },
      "execution_count": null,
      "outputs": [
        {
          "output_type": "stream",
          "name": "stdout",
          "text": [
            "string\n"
          ]
        }
      ]
    },
    {
      "cell_type": "code",
      "source": [
        "print(0 * 5)"
      ],
      "metadata": {
        "colab": {
          "base_uri": "https://localhost:8080/"
        },
        "id": "aqUrpCQGvH9T",
        "outputId": "8a9e5f85-d07d-4cfd-e21a-1784d540743f"
      },
      "execution_count": null,
      "outputs": [
        {
          "output_type": "stream",
          "name": "stdout",
          "text": [
            "0\n"
          ]
        }
      ]
    },
    {
      "cell_type": "code",
      "source": [
        "print(\"string \" * 5)"
      ],
      "metadata": {
        "colab": {
          "base_uri": "https://localhost:8080/"
        },
        "id": "VPCAWe97vNb_",
        "outputId": "e144b642-c93a-42da-9557-8fe08ce13986"
      },
      "execution_count": null,
      "outputs": [
        {
          "output_type": "stream",
          "name": "stdout",
          "text": [
            "string string string string string \n"
          ]
        }
      ]
    },
    {
      "cell_type": "code",
      "source": [
        "print(\"string\" + 5)"
      ],
      "metadata": {
        "colab": {
          "base_uri": "https://localhost:8080/",
          "height": 166
        },
        "id": "-fkqsmdXva1g",
        "outputId": "ffe03de9-910a-47dc-e408-96b0ae75b96a"
      },
      "execution_count": null,
      "outputs": [
        {
          "output_type": "error",
          "ename": "TypeError",
          "evalue": "ignored",
          "traceback": [
            "\u001b[0;31m---------------------------------------------------------------------------\u001b[0m",
            "\u001b[0;31mTypeError\u001b[0m                                 Traceback (most recent call last)",
            "\u001b[0;32m<ipython-input-7-82b3839df5c4>\u001b[0m in \u001b[0;36m<module>\u001b[0;34m\u001b[0m\n\u001b[0;32m----> 1\u001b[0;31m \u001b[0mprint\u001b[0m\u001b[0;34m(\u001b[0m\u001b[0;34m\"string\"\u001b[0m \u001b[0;34m+\u001b[0m \u001b[0;36m5\u001b[0m\u001b[0;34m)\u001b[0m\u001b[0;34m\u001b[0m\u001b[0;34m\u001b[0m\u001b[0m\n\u001b[0m",
            "\u001b[0;31mTypeError\u001b[0m: can only concatenate str (not \"int\") to str"
          ]
        }
      ]
    },
    {
      "cell_type": "markdown",
      "source": [
        "## Variables"
      ],
      "metadata": {
        "id": "e-NqPR9LviGC"
      }
    },
    {
      "cell_type": "code",
      "source": [
        "integer_variable = 100\n",
        "float_variable = 140.4\n",
        "string_variable = \"Hello\"\n",
        "print(integer_variable, float_variable, string_variable)"
      ],
      "metadata": {
        "colab": {
          "base_uri": "https://localhost:8080/"
        },
        "id": "iQqGzsddv4mt",
        "outputId": "37b761f0-addf-4638-d0da-71e596f8ed92"
      },
      "execution_count": null,
      "outputs": [
        {
          "output_type": "stream",
          "name": "stdout",
          "text": [
            "100 140.4 Hello\n"
          ]
        }
      ]
    },
    {
      "cell_type": "code",
      "source": [
        "a = b = c = 57\n",
        "print(a, b, c)"
      ],
      "metadata": {
        "colab": {
          "base_uri": "https://localhost:8080/"
        },
        "id": "tKOOJpwUxaLL",
        "outputId": "edecebf1-dfa7-4e26-8b8a-2f22286e7cf9"
      },
      "execution_count": null,
      "outputs": [
        {
          "output_type": "stream",
          "name": "stdout",
          "text": [
            "57 57 57\n"
          ]
        }
      ]
    },
    {
      "cell_type": "code",
      "source": [
        "a, b , c = 100, 200, 300\n",
        "print(a, b, c)"
      ],
      "metadata": {
        "colab": {
          "base_uri": "https://localhost:8080/"
        },
        "id": "2FqTREJlxmWA",
        "outputId": "0527911c-3b72-42a4-ef2d-b4fece289238"
      },
      "execution_count": null,
      "outputs": [
        {
          "output_type": "stream",
          "name": "stdout",
          "text": [
            "100 200 300\n"
          ]
        }
      ]
    },
    {
      "cell_type": "code",
      "source": [
        "a, b, c= 100, 200"
      ],
      "metadata": {
        "colab": {
          "base_uri": "https://localhost:8080/",
          "height": 166
        },
        "id": "wxeH86K9xzVy",
        "outputId": "2c4d6f8f-17a2-4a3c-8ed6-d034143e4502"
      },
      "execution_count": null,
      "outputs": [
        {
          "output_type": "error",
          "ename": "ValueError",
          "evalue": "ignored",
          "traceback": [
            "\u001b[0;31m---------------------------------------------------------------------------\u001b[0m",
            "\u001b[0;31mValueError\u001b[0m                                Traceback (most recent call last)",
            "\u001b[0;32m<ipython-input-13-79b80332451f>\u001b[0m in \u001b[0;36m<module>\u001b[0;34m\u001b[0m\n\u001b[0;32m----> 1\u001b[0;31m \u001b[0ma\u001b[0m\u001b[0;34m,\u001b[0m \u001b[0mb\u001b[0m\u001b[0;34m,\u001b[0m \u001b[0mc\u001b[0m\u001b[0;34m=\u001b[0m \u001b[0;36m100\u001b[0m\u001b[0;34m,\u001b[0m \u001b[0;36m200\u001b[0m\u001b[0;34m\u001b[0m\u001b[0;34m\u001b[0m\u001b[0m\n\u001b[0m",
            "\u001b[0;31mValueError\u001b[0m: not enough values to unpack (expected 3, got 2)"
          ]
        }
      ]
    },
    {
      "cell_type": "code",
      "source": [
        "help(\"keywords\")"
      ],
      "metadata": {
        "colab": {
          "base_uri": "https://localhost:8080/"
        },
        "id": "ISUnu740x7j-",
        "outputId": "5c74098f-4da2-4a5c-962d-a644e3a35aab"
      },
      "execution_count": null,
      "outputs": [
        {
          "output_type": "stream",
          "name": "stdout",
          "text": [
            "\n",
            "Here is a list of the Python keywords.  Enter any keyword to get more help.\n",
            "\n",
            "False               class               from                or\n",
            "None                continue            global              pass\n",
            "True                def                 if                  raise\n",
            "and                 del                 import              return\n",
            "as                  elif                in                  try\n",
            "assert              else                is                  while\n",
            "async               except              lambda              with\n",
            "await               finally             nonlocal            yield\n",
            "break               for                 not                 \n",
            "\n"
          ]
        }
      ]
    },
    {
      "cell_type": "code",
      "source": [
        "max(5, 7)"
      ],
      "metadata": {
        "colab": {
          "base_uri": "https://localhost:8080/"
        },
        "id": "Y2yMvtpUy5t3",
        "outputId": "1b9b91c6-5498-4579-a7a0-290bb5327038"
      },
      "execution_count": null,
      "outputs": [
        {
          "output_type": "execute_result",
          "data": {
            "text/plain": [
              "7"
            ]
          },
          "metadata": {},
          "execution_count": 15
        }
      ]
    },
    {
      "cell_type": "code",
      "source": [
        "max = 5"
      ],
      "metadata": {
        "id": "y8D03wRnzBnz"
      },
      "execution_count": null,
      "outputs": []
    },
    {
      "cell_type": "code",
      "source": [
        "print(max)"
      ],
      "metadata": {
        "colab": {
          "base_uri": "https://localhost:8080/"
        },
        "id": "X1z5fnVuzF38",
        "outputId": "3f8e484b-09d5-4f9a-98bd-fe282b08cb8c"
      },
      "execution_count": null,
      "outputs": [
        {
          "output_type": "stream",
          "name": "stdout",
          "text": [
            "5\n"
          ]
        }
      ]
    },
    {
      "cell_type": "code",
      "source": [
        "max(5, 7)"
      ],
      "metadata": {
        "colab": {
          "base_uri": "https://localhost:8080/",
          "height": 166
        },
        "id": "FApPskLzzIJj",
        "outputId": "49606da6-1c17-4861-88f3-0f79111db677"
      },
      "execution_count": null,
      "outputs": [
        {
          "output_type": "error",
          "ename": "TypeError",
          "evalue": "ignored",
          "traceback": [
            "\u001b[0;31m---------------------------------------------------------------------------\u001b[0m",
            "\u001b[0;31mTypeError\u001b[0m                                 Traceback (most recent call last)",
            "\u001b[0;32m<ipython-input-18-b985c418b52a>\u001b[0m in \u001b[0;36m<module>\u001b[0;34m\u001b[0m\n\u001b[0;32m----> 1\u001b[0;31m \u001b[0mmax\u001b[0m\u001b[0;34m(\u001b[0m\u001b[0;36m5\u001b[0m\u001b[0;34m,\u001b[0m \u001b[0;36m7\u001b[0m\u001b[0;34m)\u001b[0m\u001b[0;34m\u001b[0m\u001b[0;34m\u001b[0m\u001b[0m\n\u001b[0m",
            "\u001b[0;31mTypeError\u001b[0m: 'int' object is not callable"
          ]
        }
      ]
    },
    {
      "cell_type": "markdown",
      "source": [
        "## Lines and Indentations"
      ],
      "metadata": {
        "id": "OzvlZ3yizLqh"
      }
    },
    {
      "cell_type": "code",
      "source": [
        "a = 24\n",
        "if a == 57:\n",
        "  print(\"equal to 57\")\n",
        "else:\n",
        "  if a < 25:\n",
        "    print(\"smaller than 25\")\n",
        "  else:\n",
        "    print(\"Larger than 25\")"
      ],
      "metadata": {
        "colab": {
          "base_uri": "https://localhost:8080/"
        },
        "id": "kEG7TCFEzZRg",
        "outputId": "1067446a-74f5-4a16-cd30-a2c64950c3f2"
      },
      "execution_count": null,
      "outputs": [
        {
          "output_type": "stream",
          "name": "stdout",
          "text": [
            "smaller than 25\n"
          ]
        }
      ]
    },
    {
      "cell_type": "markdown",
      "source": [
        "## Quotations"
      ],
      "metadata": {
        "id": "T--W8aSd0D6F"
      }
    },
    {
      "cell_type": "code",
      "source": [
        "a = 'This is quotation'\n",
        "b = \"This is quotation\"\n",
        "c = '''This is quotation\n",
        "Quotations'''\n",
        "print(a, b, c)"
      ],
      "metadata": {
        "colab": {
          "base_uri": "https://localhost:8080/"
        },
        "id": "mUEX77wR0oxD",
        "outputId": "21439f97-f771-4523-c9bd-faa6554147a9"
      },
      "execution_count": null,
      "outputs": [
        {
          "output_type": "stream",
          "name": "stdout",
          "text": [
            "This is quotation This is quotation This is quotation\n",
            "Quotations\n"
          ]
        }
      ]
    },
    {
      "cell_type": "markdown",
      "source": [
        "## Comments"
      ],
      "metadata": {
        "id": "kJj84sgQ0uvw"
      }
    },
    {
      "cell_type": "code",
      "source": [
        "# This is a single line comment"
      ],
      "metadata": {
        "id": "OF6kBWGh1SkU"
      },
      "execution_count": null,
      "outputs": []
    },
    {
      "cell_type": "code",
      "source": [
        "''' This is a multi-line \n",
        "comment'''"
      ],
      "metadata": {
        "colab": {
          "base_uri": "https://localhost:8080/",
          "height": 35
        },
        "id": "c3yGparj1gDW",
        "outputId": "cdce26a7-09ab-460e-f826-0db3b4d752b0"
      },
      "execution_count": null,
      "outputs": [
        {
          "output_type": "execute_result",
          "data": {
            "text/plain": [
              "' This is a multi-line \\ncomment'"
            ],
            "application/vnd.google.colaboratory.intrinsic+json": {
              "type": "string"
            }
          },
          "metadata": {},
          "execution_count": 23
        }
      ]
    },
    {
      "cell_type": "code",
      "source": [
        "print(\"This is \\na new line example\")"
      ],
      "metadata": {
        "colab": {
          "base_uri": "https://localhost:8080/"
        },
        "id": "eFt0Atzq1uuc",
        "outputId": "66ac1092-1478-4f41-c586-3efb049abf15"
      },
      "execution_count": null,
      "outputs": [
        {
          "output_type": "stream",
          "name": "stdout",
          "text": [
            "This is \n",
            "a new line example\n"
          ]
        }
      ]
    },
    {
      "cell_type": "markdown",
      "source": [
        "# Standard Data Types"
      ],
      "metadata": {
        "id": "RUGdWZaJ2CvC"
      }
    },
    {
      "cell_type": "markdown",
      "source": [
        "## Data types"
      ],
      "metadata": {
        "id": "2zT3YUxj2Qaw"
      }
    },
    {
      "cell_type": "code",
      "source": [
        "# String\n",
        "a = \"This is a string\"\n",
        "print(a)\n",
        "print(type(a))"
      ],
      "metadata": {
        "colab": {
          "base_uri": "https://localhost:8080/"
        },
        "id": "ahF-rlc02Yq_",
        "outputId": "e0e404f3-ccca-4588-d43b-c5ac061f2042"
      },
      "execution_count": null,
      "outputs": [
        {
          "output_type": "stream",
          "name": "stdout",
          "text": [
            "This is a string\n",
            "<class 'str'>\n"
          ]
        }
      ]
    },
    {
      "cell_type": "code",
      "source": [
        "#Numbers\n",
        "a = 1\n",
        "b = 12.45\n",
        "c = -57\n",
        "d = -67.8\n",
        "print(a, b, c, d)\n",
        "print(type(a), type(b), type(c), type(d))"
      ],
      "metadata": {
        "colab": {
          "base_uri": "https://localhost:8080/"
        },
        "id": "7ZT3ZV3x2rHJ",
        "outputId": "cac05578-cb44-4492-d2e6-4f379f0eed1a"
      },
      "execution_count": null,
      "outputs": [
        {
          "output_type": "stream",
          "name": "stdout",
          "text": [
            "1 12.45 -57 -67.8\n",
            "<class 'int'> <class 'float'> <class 'int'> <class 'float'>\n"
          ]
        }
      ]
    },
    {
      "cell_type": "code",
      "source": [
        "#List\n",
        "#List of Integers\n",
        "a = [1, 2, 3, 4, 5]\n",
        "\n",
        "#List of varied types\n",
        "b = [1, 1.2, \"Hello\"]\n",
        "print(a, b)\n",
        "print(type(a), type(b))"
      ],
      "metadata": {
        "colab": {
          "base_uri": "https://localhost:8080/"
        },
        "id": "BV9R_9OS3M7I",
        "outputId": "4463d57d-c270-42df-ae1b-b3fd7d5b2437"
      },
      "execution_count": null,
      "outputs": [
        {
          "output_type": "stream",
          "name": "stdout",
          "text": [
            "[1, 2, 3, 4, 5] [1, 1.2, 'Hello']\n",
            "<class 'list'> <class 'list'>\n"
          ]
        }
      ]
    },
    {
      "cell_type": "code",
      "source": [
        "#Tuple\n",
        "a = (1, 2, 3, 4)\n",
        "print(a)\n",
        "print(type(a))"
      ],
      "metadata": {
        "colab": {
          "base_uri": "https://localhost:8080/"
        },
        "id": "jZBysE8K3cJk",
        "outputId": "4a3dbce1-981d-469a-b50d-7ef850225bce"
      },
      "execution_count": null,
      "outputs": [
        {
          "output_type": "stream",
          "name": "stdout",
          "text": [
            "(1, 2, 3, 4)\n",
            "<class 'tuple'>\n"
          ]
        }
      ]
    },
    {
      "cell_type": "code",
      "source": [
        "#Dictionaries\n",
        "a = {\"Key1\": \"value1\", \"Key2\": \"value2\"}\n",
        "b = {1: 2, 3: 4}\n",
        "c = {\"Key1\": [1, 2, 3], \"Key2\":\"Value2\"}"
      ],
      "metadata": {
        "id": "ix7iNMdl4gEH"
      },
      "execution_count": null,
      "outputs": []
    },
    {
      "cell_type": "code",
      "source": [
        "print(a, b, c)\n",
        "print(type(a), type(b), type(c))"
      ],
      "metadata": {
        "colab": {
          "base_uri": "https://localhost:8080/"
        },
        "id": "LPvv5IWO5hVo",
        "outputId": "b4b0d26b-09cf-45ef-86a0-7aabbd1667fc"
      },
      "execution_count": null,
      "outputs": [
        {
          "output_type": "stream",
          "name": "stdout",
          "text": [
            "{'Key1': 'value1', 'Key2': 'value2'} {1: 2, 3: 4} {'Key1': [1, 2, 3], 'Key2': 'Value2'}\n",
            "<class 'dict'> <class 'dict'> <class 'dict'>\n"
          ]
        }
      ]
    },
    {
      "cell_type": "code",
      "source": [
        "c[\"Key1\"]"
      ],
      "metadata": {
        "colab": {
          "base_uri": "https://localhost:8080/"
        },
        "id": "V0klk5I95q9k",
        "outputId": "4c5db5db-5fb5-45b9-e6dd-59f2a9e46233"
      },
      "execution_count": null,
      "outputs": [
        {
          "output_type": "execute_result",
          "data": {
            "text/plain": [
              "[1, 2, 3]"
            ]
          },
          "metadata": {},
          "execution_count": 34
        }
      ]
    },
    {
      "cell_type": "markdown",
      "source": [
        "##Data Type Conversions"
      ],
      "metadata": {
        "id": "OFMAO-ax5v3A"
      }
    },
    {
      "cell_type": "code",
      "source": [
        "a = 1.8\n",
        "print(type(a))\n",
        "#Float to integer conversion\n",
        "b = int(a)\n",
        "print(b, type(b))"
      ],
      "metadata": {
        "colab": {
          "base_uri": "https://localhost:8080/"
        },
        "id": "r1vsAhXU6IUL",
        "outputId": "39691e9e-cef1-4a51-823c-87387bed98ee"
      },
      "execution_count": null,
      "outputs": [
        {
          "output_type": "stream",
          "name": "stdout",
          "text": [
            "<class 'float'>\n",
            "1 <class 'int'>\n"
          ]
        }
      ]
    },
    {
      "cell_type": "code",
      "source": [
        "# int\n",
        "# float\n",
        "# str\n",
        "# tuple\n",
        "# list\n",
        "# dict"
      ],
      "metadata": {
        "id": "rbAPoa4o6e2j"
      },
      "execution_count": null,
      "outputs": []
    },
    {
      "cell_type": "code",
      "source": [
        "#Integer to float conversion\n",
        "float(b)"
      ],
      "metadata": {
        "colab": {
          "base_uri": "https://localhost:8080/"
        },
        "id": "0mEvYahO7Grw",
        "outputId": "6117f4c9-744a-42a9-e0b8-3850fddce16d"
      },
      "execution_count": null,
      "outputs": [
        {
          "output_type": "execute_result",
          "data": {
            "text/plain": [
              "1.0"
            ]
          },
          "metadata": {},
          "execution_count": 38
        }
      ]
    },
    {
      "cell_type": "code",
      "source": [
        "# String to float and integer conversion (Valid)\n",
        "a = \"2\"\n",
        "print(int(a))\n",
        "print(float(a))"
      ],
      "metadata": {
        "colab": {
          "base_uri": "https://localhost:8080/"
        },
        "id": "PqrkH_LY7JeN",
        "outputId": "43d91cad-af6d-406a-cc12-840901a028e3"
      },
      "execution_count": null,
      "outputs": [
        {
          "output_type": "stream",
          "name": "stdout",
          "text": [
            "2\n",
            "2.0\n"
          ]
        }
      ]
    },
    {
      "cell_type": "code",
      "source": [
        "#String to float and integer conversion (Invalid)\n",
        "a = \"Samsung\"\n",
        "print(int(a))"
      ],
      "metadata": {
        "colab": {
          "base_uri": "https://localhost:8080/",
          "height": 201
        },
        "id": "6rD_O6-h7mZH",
        "outputId": "d8408b11-7c2c-4445-a9e8-465f5bed4ff6"
      },
      "execution_count": null,
      "outputs": [
        {
          "output_type": "error",
          "ename": "ValueError",
          "evalue": "ignored",
          "traceback": [
            "\u001b[0;31m---------------------------------------------------------------------------\u001b[0m",
            "\u001b[0;31mValueError\u001b[0m                                Traceback (most recent call last)",
            "\u001b[0;32m<ipython-input-41-5b48b7b46de1>\u001b[0m in \u001b[0;36m<module>\u001b[0;34m\u001b[0m\n\u001b[1;32m      1\u001b[0m \u001b[0;31m#String tofloat and integer conversion (Invalid)\u001b[0m\u001b[0;34m\u001b[0m\u001b[0;34m\u001b[0m\u001b[0;34m\u001b[0m\u001b[0m\n\u001b[1;32m      2\u001b[0m \u001b[0ma\u001b[0m \u001b[0;34m=\u001b[0m \u001b[0;34m\"Samsung\"\u001b[0m\u001b[0;34m\u001b[0m\u001b[0;34m\u001b[0m\u001b[0m\n\u001b[0;32m----> 3\u001b[0;31m \u001b[0mprint\u001b[0m\u001b[0;34m(\u001b[0m\u001b[0mint\u001b[0m\u001b[0;34m(\u001b[0m\u001b[0ma\u001b[0m\u001b[0;34m)\u001b[0m\u001b[0;34m)\u001b[0m\u001b[0;34m\u001b[0m\u001b[0;34m\u001b[0m\u001b[0m\n\u001b[0m",
            "\u001b[0;31mValueError\u001b[0m: invalid literal for int() with base 10: 'Samsung'"
          ]
        }
      ]
    },
    {
      "cell_type": "code",
      "source": [
        "#List to tuple conversion\n",
        "a = [1, 2, 3, 4]\n",
        "b = tuple(a)\n",
        "print(b, type(b))"
      ],
      "metadata": {
        "colab": {
          "base_uri": "https://localhost:8080/"
        },
        "id": "kqcvsg9t78mN",
        "outputId": "6b941f13-da71-41a4-bab1-9830190ceccf"
      },
      "execution_count": null,
      "outputs": [
        {
          "output_type": "stream",
          "name": "stdout",
          "text": [
            "(1, 2, 3, 4) <class 'tuple'>\n"
          ]
        }
      ]
    },
    {
      "cell_type": "code",
      "source": [
        "#Tuple to list conversion\n",
        "b = (1, 2, 3, 4)\n",
        "c = list(b)\n",
        "print(c, type(c))"
      ],
      "metadata": {
        "colab": {
          "base_uri": "https://localhost:8080/"
        },
        "id": "g-E-gqZf8PKL",
        "outputId": "4ce4be06-ce20-4fd8-ba04-5555b7103c8c"
      },
      "execution_count": null,
      "outputs": [
        {
          "output_type": "stream",
          "name": "stdout",
          "text": [
            "[1, 2, 3, 4] <class 'list'>\n"
          ]
        }
      ]
    },
    {
      "cell_type": "code",
      "source": [
        "#string to list conversion\n",
        "a = \"This is a string\"\n",
        "b = list(a)\n",
        "print(b)"
      ],
      "metadata": {
        "colab": {
          "base_uri": "https://localhost:8080/"
        },
        "id": "TNDmlO8C8coe",
        "outputId": "d4a08df3-dfcf-4055-8bc7-7144dbd26685"
      },
      "execution_count": null,
      "outputs": [
        {
          "output_type": "stream",
          "name": "stdout",
          "text": [
            "['T', 'h', 'i', 's', ' ', 'i', 's', ' ', 'a', ' ', 's', 't', 'r', 'i', 'n', 'g']\n"
          ]
        }
      ]
    },
    {
      "cell_type": "code",
      "source": [
        "print(tuple(a))"
      ],
      "metadata": {
        "colab": {
          "base_uri": "https://localhost:8080/"
        },
        "id": "0z8hY_MK8pLR",
        "outputId": "42e2e59a-f2fa-4eb3-8ac1-e95aaba481a3"
      },
      "execution_count": null,
      "outputs": [
        {
          "output_type": "stream",
          "name": "stdout",
          "text": [
            "('T', 'h', 'i', 's', ' ', 'i', 's', ' ', 'a', ' ', 's', 't', 'r', 'i', 'n', 'g')\n"
          ]
        }
      ]
    },
    {
      "cell_type": "markdown",
      "source": [
        "##Number Functions"
      ],
      "metadata": {
        "id": "v-T8_0Pv8zXe"
      }
    },
    {
      "cell_type": "code",
      "source": [
        "import math"
      ],
      "metadata": {
        "id": "CeQxFVAC9CNI"
      },
      "execution_count": null,
      "outputs": []
    },
    {
      "cell_type": "code",
      "source": [
        "a = -57\n",
        "b = 2\n",
        "c = 25.34\n",
        "d = 35.78\n",
        "e = -12.29"
      ],
      "metadata": {
        "id": "Y4AWPntP9is4"
      },
      "execution_count": null,
      "outputs": []
    },
    {
      "cell_type": "code",
      "source": [
        "print(a - b)"
      ],
      "metadata": {
        "colab": {
          "base_uri": "https://localhost:8080/"
        },
        "id": "mSsAqbi89p_j",
        "outputId": "9cde6c1d-b4fd-4363-d765-f36a0d90e33b"
      },
      "execution_count": null,
      "outputs": [
        {
          "output_type": "stream",
          "name": "stdout",
          "text": [
            "-59\n"
          ]
        }
      ]
    },
    {
      "cell_type": "code",
      "source": [
        "print(abs(a))"
      ],
      "metadata": {
        "colab": {
          "base_uri": "https://localhost:8080/"
        },
        "id": "KHiKWaDw9v-k",
        "outputId": "b0da7251-0ff6-42f4-e6e1-4515ba3168de"
      },
      "execution_count": null,
      "outputs": [
        {
          "output_type": "stream",
          "name": "stdout",
          "text": [
            "57\n"
          ]
        }
      ]
    },
    {
      "cell_type": "code",
      "source": [
        "print(abs(a), abs(b), abs(c), abs(d), abs(e))"
      ],
      "metadata": {
        "colab": {
          "base_uri": "https://localhost:8080/"
        },
        "id": "tZK9oDdc-Ijh",
        "outputId": "2c7be2b0-d657-46e7-e94d-580c18d82023"
      },
      "execution_count": null,
      "outputs": [
        {
          "output_type": "stream",
          "name": "stdout",
          "text": [
            "57 2 25.34 35.78 12.29\n"
          ]
        }
      ]
    },
    {
      "cell_type": "code",
      "source": [
        "math.ceil(c), math.ceil(d), math.ceil(e)"
      ],
      "metadata": {
        "colab": {
          "base_uri": "https://localhost:8080/"
        },
        "id": "w7BrBRM_-QO7",
        "outputId": "6c8fadc3-3b69-4095-886d-3fe59006c6d9"
      },
      "execution_count": null,
      "outputs": [
        {
          "output_type": "execute_result",
          "data": {
            "text/plain": [
              "(26, 36, -12)"
            ]
          },
          "metadata": {},
          "execution_count": 55
        }
      ]
    },
    {
      "cell_type": "code",
      "source": [
        "math.floor(c), math.floor(d), math.floor(e)"
      ],
      "metadata": {
        "colab": {
          "base_uri": "https://localhost:8080/"
        },
        "id": "WsLDQwQa-tyb",
        "outputId": "d74bf485-3eed-4cf5-a6c3-bd567359fe80"
      },
      "execution_count": null,
      "outputs": [
        {
          "output_type": "execute_result",
          "data": {
            "text/plain": [
              "(25, 35, -13)"
            ]
          },
          "metadata": {},
          "execution_count": 58
        }
      ]
    },
    {
      "cell_type": "code",
      "source": [
        "max(1, 3)"
      ],
      "metadata": {
        "colab": {
          "base_uri": "https://localhost:8080/"
        },
        "id": "OhS5tg-c_Hvd",
        "outputId": "41f24fbe-0cf4-4a03-c71e-c2ddfa2fd1a9"
      },
      "execution_count": null,
      "outputs": [
        {
          "output_type": "execute_result",
          "data": {
            "text/plain": [
              "3"
            ]
          },
          "metadata": {},
          "execution_count": 1
        }
      ]
    },
    {
      "cell_type": "code",
      "source": [
        "max([3, 4, 5, 6])"
      ],
      "metadata": {
        "colab": {
          "base_uri": "https://localhost:8080/"
        },
        "id": "_AclH68e_Y__",
        "outputId": "fd200f86-ff72-4d01-8e55-2dee10407197"
      },
      "execution_count": null,
      "outputs": [
        {
          "output_type": "execute_result",
          "data": {
            "text/plain": [
              "6"
            ]
          },
          "metadata": {},
          "execution_count": 2
        }
      ]
    },
    {
      "cell_type": "code",
      "source": [
        "min(1,3)"
      ],
      "metadata": {
        "colab": {
          "base_uri": "https://localhost:8080/"
        },
        "id": "ZSdCTEO1_dq2",
        "outputId": "cfb2b6b4-38cc-46b1-8afc-6be73e5c3fa5"
      },
      "execution_count": null,
      "outputs": [
        {
          "output_type": "execute_result",
          "data": {
            "text/plain": [
              "1"
            ]
          },
          "metadata": {},
          "execution_count": 3
        }
      ]
    },
    {
      "cell_type": "code",
      "source": [
        "round(1.8844)"
      ],
      "metadata": {
        "colab": {
          "base_uri": "https://localhost:8080/"
        },
        "id": "tc2ZSwgX_idu",
        "outputId": "3505f73c-c577-4444-d427-01a0541a9867"
      },
      "execution_count": null,
      "outputs": [
        {
          "output_type": "execute_result",
          "data": {
            "text/plain": [
              "2"
            ]
          },
          "metadata": {},
          "execution_count": 4
        }
      ]
    },
    {
      "cell_type": "code",
      "source": [
        "round(1.8844, 2)"
      ],
      "metadata": {
        "colab": {
          "base_uri": "https://localhost:8080/"
        },
        "id": "8g68MhLC_mrH",
        "outputId": "6346215d-2fe4-4a45-cf04-bc4e850ad7f4"
      },
      "execution_count": null,
      "outputs": [
        {
          "output_type": "execute_result",
          "data": {
            "text/plain": [
              "1.88"
            ]
          },
          "metadata": {},
          "execution_count": 6
        }
      ]
    },
    {
      "cell_type": "code",
      "source": [
        "math.sqrt(64)"
      ],
      "metadata": {
        "colab": {
          "base_uri": "https://localhost:8080/"
        },
        "id": "L1Vo5h6X_q0O",
        "outputId": "1c5c7068-2746-421e-b643-a2f823c6605e"
      },
      "execution_count": null,
      "outputs": [
        {
          "output_type": "execute_result",
          "data": {
            "text/plain": [
              "8.0"
            ]
          },
          "metadata": {},
          "execution_count": 9
        }
      ]
    },
    {
      "cell_type": "code",
      "source": [
        "math.sqrt(3477)"
      ],
      "metadata": {
        "colab": {
          "base_uri": "https://localhost:8080/"
        },
        "id": "s7hKi0NL_wp6",
        "outputId": "4681871c-257a-42d9-e737-ebc5d200f689"
      },
      "execution_count": null,
      "outputs": [
        {
          "output_type": "execute_result",
          "data": {
            "text/plain": [
              "58.966091951222275"
            ]
          },
          "metadata": {},
          "execution_count": 10
        }
      ]
    },
    {
      "cell_type": "code",
      "source": [
        "min(max(math.ceil(abs(round(math.sqrt(3477), 2))), 10), 15)"
      ],
      "metadata": {
        "colab": {
          "base_uri": "https://localhost:8080/"
        },
        "id": "kE-5MYZH_5og",
        "outputId": "af26b099-dda2-4219-a744-e6ffd96a9a90"
      },
      "execution_count": null,
      "outputs": [
        {
          "output_type": "execute_result",
          "data": {
            "text/plain": [
              "15"
            ]
          },
          "metadata": {},
          "execution_count": 16
        }
      ]
    },
    {
      "cell_type": "markdown",
      "source": [
        "#Basic Operaters"
      ],
      "metadata": {
        "id": "02yrp0oZAB7J"
      }
    },
    {
      "cell_type": "markdown",
      "source": [
        "## Arithmetic operators"
      ],
      "metadata": {
        "id": "I2T_XImXugnR"
      }
    },
    {
      "cell_type": "markdown",
      "source": [
        "- +\n",
        "- -\n",
        "- *\n",
        "- /\n",
        "- //\n",
        "- %\n",
        "- **"
      ],
      "metadata": {
        "id": "KnQTNZvauw2N"
      }
    },
    {
      "cell_type": "code",
      "source": [
        "a = 11\n",
        "b = 3"
      ],
      "metadata": {
        "id": "hspr37bcu85K"
      },
      "execution_count": null,
      "outputs": []
    },
    {
      "cell_type": "code",
      "source": [
        "a + b"
      ],
      "metadata": {
        "colab": {
          "base_uri": "https://localhost:8080/"
        },
        "id": "4YBbXmJwvEIB",
        "outputId": "5c96d520-1f2c-48c1-84a9-2c7795f4a5da"
      },
      "execution_count": null,
      "outputs": [
        {
          "output_type": "execute_result",
          "data": {
            "text/plain": [
              "14"
            ]
          },
          "metadata": {},
          "execution_count": 2
        }
      ]
    },
    {
      "cell_type": "code",
      "source": [
        "a - b"
      ],
      "metadata": {
        "colab": {
          "base_uri": "https://localhost:8080/"
        },
        "id": "w599jjBxvHVA",
        "outputId": "4f85e553-3175-4bf6-f616-4ef750e5fdcf"
      },
      "execution_count": null,
      "outputs": [
        {
          "output_type": "execute_result",
          "data": {
            "text/plain": [
              "8"
            ]
          },
          "metadata": {},
          "execution_count": 3
        }
      ]
    },
    {
      "cell_type": "code",
      "source": [
        "a * b"
      ],
      "metadata": {
        "colab": {
          "base_uri": "https://localhost:8080/"
        },
        "id": "R4Ifdy9qvJ2c",
        "outputId": "8fed7ba5-2d59-46b6-c11e-0077548af464"
      },
      "execution_count": null,
      "outputs": [
        {
          "output_type": "execute_result",
          "data": {
            "text/plain": [
              "33"
            ]
          },
          "metadata": {},
          "execution_count": 4
        }
      ]
    },
    {
      "cell_type": "code",
      "source": [
        "a / b"
      ],
      "metadata": {
        "colab": {
          "base_uri": "https://localhost:8080/"
        },
        "id": "Fg2mkFeQvMgY",
        "outputId": "137b382a-b2e6-4a0e-e82a-129ec65352b9"
      },
      "execution_count": null,
      "outputs": [
        {
          "output_type": "execute_result",
          "data": {
            "text/plain": [
              "3.6666666666666665"
            ]
          },
          "metadata": {},
          "execution_count": 5
        }
      ]
    },
    {
      "cell_type": "code",
      "source": [
        "a // b"
      ],
      "metadata": {
        "colab": {
          "base_uri": "https://localhost:8080/"
        },
        "id": "tyAPRLgPvNj2",
        "outputId": "356db997-96a3-4df0-cc47-02fa56d3001d"
      },
      "execution_count": null,
      "outputs": [
        {
          "output_type": "execute_result",
          "data": {
            "text/plain": [
              "3"
            ]
          },
          "metadata": {},
          "execution_count": 6
        }
      ]
    },
    {
      "cell_type": "code",
      "source": [
        "a % b"
      ],
      "metadata": {
        "colab": {
          "base_uri": "https://localhost:8080/"
        },
        "id": "_VcpKzOFvPcZ",
        "outputId": "27a828e5-f2c9-4de4-9433-7164977d520d"
      },
      "execution_count": null,
      "outputs": [
        {
          "output_type": "execute_result",
          "data": {
            "text/plain": [
              "2"
            ]
          },
          "metadata": {},
          "execution_count": 7
        }
      ]
    },
    {
      "cell_type": "code",
      "source": [
        "a ** b"
      ],
      "metadata": {
        "colab": {
          "base_uri": "https://localhost:8080/"
        },
        "id": "FtlNGewNvSSz",
        "outputId": "6d1a7db2-475e-4183-980b-5c0f82c4df94"
      },
      "execution_count": null,
      "outputs": [
        {
          "output_type": "execute_result",
          "data": {
            "text/plain": [
              "1331"
            ]
          },
          "metadata": {},
          "execution_count": 8
        }
      ]
    },
    {
      "cell_type": "markdown",
      "source": [
        "##Comparison Operators (Relational operators)"
      ],
      "metadata": {
        "id": "KKO9zd9CvUtS"
      }
    },
    {
      "cell_type": "markdown",
      "source": [
        "- '=='\n",
        "- '!='\n",
        "- '>'\n",
        "- '<'\n",
        "- '>='\n",
        "- '<='"
      ],
      "metadata": {
        "id": "27lfBz2IvdqL"
      }
    },
    {
      "cell_type": "code",
      "source": [
        "a = 11\n",
        "b = 11\n",
        "c = 3"
      ],
      "metadata": {
        "id": "-w_-kjn7vgSw"
      },
      "execution_count": null,
      "outputs": []
    },
    {
      "cell_type": "code",
      "source": [
        "a == b"
      ],
      "metadata": {
        "colab": {
          "base_uri": "https://localhost:8080/"
        },
        "id": "8_N7Z9Isv910",
        "outputId": "75f32132-1d4b-402c-a4b3-82f8eeb5367f"
      },
      "execution_count": null,
      "outputs": [
        {
          "output_type": "execute_result",
          "data": {
            "text/plain": [
              "True"
            ]
          },
          "metadata": {},
          "execution_count": 10
        }
      ]
    },
    {
      "cell_type": "code",
      "source": [
        "a == c"
      ],
      "metadata": {
        "colab": {
          "base_uri": "https://localhost:8080/"
        },
        "id": "NTH5gh4zwBON",
        "outputId": "3bbc4aad-b61e-4850-83e7-3fcbc888cffe"
      },
      "execution_count": null,
      "outputs": [
        {
          "output_type": "execute_result",
          "data": {
            "text/plain": [
              "False"
            ]
          },
          "metadata": {},
          "execution_count": 11
        }
      ]
    },
    {
      "cell_type": "code",
      "source": [
        "a != b"
      ],
      "metadata": {
        "colab": {
          "base_uri": "https://localhost:8080/"
        },
        "id": "I1FgOSgMwD7o",
        "outputId": "6abac245-bef5-4976-d24c-3ccf1df7e70d"
      },
      "execution_count": null,
      "outputs": [
        {
          "output_type": "execute_result",
          "data": {
            "text/plain": [
              "False"
            ]
          },
          "metadata": {},
          "execution_count": 12
        }
      ]
    },
    {
      "cell_type": "code",
      "source": [
        "a > b"
      ],
      "metadata": {
        "colab": {
          "base_uri": "https://localhost:8080/"
        },
        "id": "SJVaHjstwIOc",
        "outputId": "fbc4a32a-615b-430b-d7c6-2ba003a954cd"
      },
      "execution_count": null,
      "outputs": [
        {
          "output_type": "execute_result",
          "data": {
            "text/plain": [
              "False"
            ]
          },
          "metadata": {},
          "execution_count": 13
        }
      ]
    },
    {
      "cell_type": "code",
      "source": [
        "a < b"
      ],
      "metadata": {
        "colab": {
          "base_uri": "https://localhost:8080/"
        },
        "id": "3J405Ww4wK4K",
        "outputId": "41c24ee4-44a6-4a23-9809-6be5dfd80a5e"
      },
      "execution_count": null,
      "outputs": [
        {
          "output_type": "execute_result",
          "data": {
            "text/plain": [
              "False"
            ]
          },
          "metadata": {},
          "execution_count": 14
        }
      ]
    },
    {
      "cell_type": "code",
      "source": [
        "a >= b"
      ],
      "metadata": {
        "colab": {
          "base_uri": "https://localhost:8080/"
        },
        "id": "v_sL2zblwLjq",
        "outputId": "a9c674ba-b199-4df3-d344-7b565c0ecb72"
      },
      "execution_count": null,
      "outputs": [
        {
          "output_type": "execute_result",
          "data": {
            "text/plain": [
              "True"
            ]
          },
          "metadata": {},
          "execution_count": 15
        }
      ]
    },
    {
      "cell_type": "code",
      "source": [
        "a <= b"
      ],
      "metadata": {
        "colab": {
          "base_uri": "https://localhost:8080/"
        },
        "id": "IKyg-t-CwNtF",
        "outputId": "244993aa-221f-44ce-afd4-e2a3d77ab52c"
      },
      "execution_count": null,
      "outputs": [
        {
          "output_type": "execute_result",
          "data": {
            "text/plain": [
              "True"
            ]
          },
          "metadata": {},
          "execution_count": 16
        }
      ]
    },
    {
      "cell_type": "markdown",
      "source": [
        "##Assignment operators"
      ],
      "metadata": {
        "id": "HWota-yZwOzG"
      }
    },
    {
      "cell_type": "markdown",
      "source": [
        "- =\n",
        "- +=\n",
        "- -=\n",
        "- *=\n",
        "- /=\n",
        "- //=\n",
        "- %="
      ],
      "metadata": {
        "id": "rXAsY2rPwSPV"
      }
    },
    {
      "cell_type": "code",
      "source": [
        "a = 3+5\n",
        "print(a)"
      ],
      "metadata": {
        "colab": {
          "base_uri": "https://localhost:8080/"
        },
        "id": "kJmABKd3wagv",
        "outputId": "a06a6353-e0db-4925-9f6a-c40ed970dc48"
      },
      "execution_count": null,
      "outputs": [
        {
          "output_type": "stream",
          "name": "stdout",
          "text": [
            "8\n"
          ]
        }
      ]
    },
    {
      "cell_type": "code",
      "source": [
        "a = a+1\n",
        "print(a)"
      ],
      "metadata": {
        "colab": {
          "base_uri": "https://localhost:8080/"
        },
        "id": "aG5oWaICwhBZ",
        "outputId": "f47be125-b9ea-4953-e238-e360acc12e47"
      },
      "execution_count": null,
      "outputs": [
        {
          "output_type": "stream",
          "name": "stdout",
          "text": [
            "9\n"
          ]
        }
      ]
    },
    {
      "cell_type": "code",
      "source": [
        "a += 1\n",
        "print(a)"
      ],
      "metadata": {
        "colab": {
          "base_uri": "https://localhost:8080/"
        },
        "id": "JjH5DH8LwsSd",
        "outputId": "c4d10e7e-4ae2-4a11-88ff-6f3a8df95c95"
      },
      "execution_count": null,
      "outputs": [
        {
          "output_type": "stream",
          "name": "stdout",
          "text": [
            "10\n"
          ]
        }
      ]
    },
    {
      "cell_type": "code",
      "source": [
        "a -=1\n",
        "print(a)"
      ],
      "metadata": {
        "colab": {
          "base_uri": "https://localhost:8080/"
        },
        "id": "829eukdvxJAK",
        "outputId": "a5865edf-1c09-4df3-b10a-1baeb432189b"
      },
      "execution_count": null,
      "outputs": [
        {
          "output_type": "stream",
          "name": "stdout",
          "text": [
            "9\n"
          ]
        }
      ]
    },
    {
      "cell_type": "markdown",
      "source": [
        "##Logical Operators"
      ],
      "metadata": {
        "id": "wI-HNePAxUku"
      }
    },
    {
      "cell_type": "markdown",
      "source": [
        "- and\n",
        "- or\n",
        "- not"
      ],
      "metadata": {
        "id": "Nnbnq-8XxggP"
      }
    },
    {
      "cell_type": "markdown",
      "source": [
        "### Basics about logical operators"
      ],
      "metadata": {
        "id": "JD8rJh2Lxnv7"
      }
    },
    {
      "cell_type": "code",
      "source": [
        "True and True"
      ],
      "metadata": {
        "colab": {
          "base_uri": "https://localhost:8080/"
        },
        "id": "BG_z3hRKx056",
        "outputId": "3f34b46e-7f3e-472c-f7ba-7bbd935ebc58"
      },
      "execution_count": null,
      "outputs": [
        {
          "output_type": "execute_result",
          "data": {
            "text/plain": [
              "True"
            ]
          },
          "metadata": {},
          "execution_count": 27
        }
      ]
    },
    {
      "cell_type": "code",
      "source": [
        "True and False"
      ],
      "metadata": {
        "colab": {
          "base_uri": "https://localhost:8080/"
        },
        "id": "uy5mnU5tx8lS",
        "outputId": "7f562676-95d4-4713-9cfc-cacaed205c59"
      },
      "execution_count": null,
      "outputs": [
        {
          "output_type": "execute_result",
          "data": {
            "text/plain": [
              "False"
            ]
          },
          "metadata": {},
          "execution_count": 28
        }
      ]
    },
    {
      "cell_type": "code",
      "source": [
        "False and True"
      ],
      "metadata": {
        "colab": {
          "base_uri": "https://localhost:8080/"
        },
        "id": "ZrMiAhdIx_Fp",
        "outputId": "14a679ab-1e09-4de3-d3aa-3f3903d493b8"
      },
      "execution_count": null,
      "outputs": [
        {
          "output_type": "execute_result",
          "data": {
            "text/plain": [
              "False"
            ]
          },
          "metadata": {},
          "execution_count": 29
        }
      ]
    },
    {
      "cell_type": "code",
      "source": [
        "False and False"
      ],
      "metadata": {
        "colab": {
          "base_uri": "https://localhost:8080/"
        },
        "id": "bV_hm5m6yBUk",
        "outputId": "48b00ecd-f229-409c-8d82-d64d2a602de0"
      },
      "execution_count": null,
      "outputs": [
        {
          "output_type": "execute_result",
          "data": {
            "text/plain": [
              "False"
            ]
          },
          "metadata": {},
          "execution_count": 30
        }
      ]
    },
    {
      "cell_type": "code",
      "source": [
        "not False"
      ],
      "metadata": {
        "colab": {
          "base_uri": "https://localhost:8080/"
        },
        "id": "FZf3mDkeyDuS",
        "outputId": "ae250c0e-106c-48f9-b17c-359dfef828c6"
      },
      "execution_count": null,
      "outputs": [
        {
          "output_type": "execute_result",
          "data": {
            "text/plain": [
              "True"
            ]
          },
          "metadata": {},
          "execution_count": 31
        }
      ]
    },
    {
      "cell_type": "code",
      "source": [
        "not True"
      ],
      "metadata": {
        "colab": {
          "base_uri": "https://localhost:8080/"
        },
        "id": "XkbOtTuZzZsN",
        "outputId": "52aaa67d-ce27-4d74-f950-b2a7590eb44a"
      },
      "execution_count": null,
      "outputs": [
        {
          "output_type": "execute_result",
          "data": {
            "text/plain": [
              "False"
            ]
          },
          "metadata": {},
          "execution_count": 32
        }
      ]
    },
    {
      "cell_type": "code",
      "source": [
        "print(True or True)\n",
        "print(True or False)\n",
        "print(False or True)\n",
        "print(False or False)"
      ],
      "metadata": {
        "colab": {
          "base_uri": "https://localhost:8080/"
        },
        "id": "dK11O5Uezau0",
        "outputId": "d91cf43e-bc99-4c04-ea38-f6e84a58a1d4"
      },
      "execution_count": null,
      "outputs": [
        {
          "output_type": "stream",
          "name": "stdout",
          "text": [
            "True\n",
            "True\n",
            "True\n",
            "False\n"
          ]
        }
      ]
    },
    {
      "cell_type": "markdown",
      "source": [
        "**AND**: For AND operation to be True, both the conditions should equate to True\n",
        "\n",
        "**OR**: For OR operation to be True, any of the conditions can be True\n",
        "\n",
        "**NOT**: It's a negation operation (Gives opposite of anything)"
      ],
      "metadata": {
        "id": "g2wZGNW8zk-l"
      }
    },
    {
      "cell_type": "markdown",
      "source": [
        "###Logical operator examples"
      ],
      "metadata": {
        "id": "1EJE0I7K0gAb"
      }
    },
    {
      "cell_type": "code",
      "source": [
        "a = 12\n",
        "b = 12\n",
        "c = 3"
      ],
      "metadata": {
        "id": "ZOFTzFzA0o-t"
      },
      "execution_count": null,
      "outputs": []
    },
    {
      "cell_type": "code",
      "source": [
        "a == 12 and b == 12"
      ],
      "metadata": {
        "colab": {
          "base_uri": "https://localhost:8080/"
        },
        "id": "ydml7LGk0slW",
        "outputId": "fc1aed97-d0f1-42fa-9c2f-26658d13b895"
      },
      "execution_count": null,
      "outputs": [
        {
          "output_type": "execute_result",
          "data": {
            "text/plain": [
              "True"
            ]
          },
          "metadata": {},
          "execution_count": 39
        }
      ]
    },
    {
      "cell_type": "code",
      "source": [
        "a == 12 and c == 12"
      ],
      "metadata": {
        "colab": {
          "base_uri": "https://localhost:8080/"
        },
        "id": "2Q09iVyc0uNK",
        "outputId": "03c84a89-25d7-42d4-f093-ca94df4d3fe1"
      },
      "execution_count": null,
      "outputs": [
        {
          "output_type": "execute_result",
          "data": {
            "text/plain": [
              "False"
            ]
          },
          "metadata": {},
          "execution_count": 40
        }
      ]
    },
    {
      "cell_type": "code",
      "source": [
        "a == 12 or c ==12"
      ],
      "metadata": {
        "colab": {
          "base_uri": "https://localhost:8080/"
        },
        "id": "Os0wqjbk06la",
        "outputId": "3182a149-7f11-49b5-95a0-cf308be04698"
      },
      "execution_count": null,
      "outputs": [
        {
          "output_type": "execute_result",
          "data": {
            "text/plain": [
              "True"
            ]
          },
          "metadata": {},
          "execution_count": 41
        }
      ]
    },
    {
      "cell_type": "code",
      "source": [
        "not(a == 12)"
      ],
      "metadata": {
        "colab": {
          "base_uri": "https://localhost:8080/"
        },
        "id": "3CB-wkLl0-NK",
        "outputId": "74dabac8-2877-4f59-8937-414e59277ba2"
      },
      "execution_count": null,
      "outputs": [
        {
          "output_type": "execute_result",
          "data": {
            "text/plain": [
              "False"
            ]
          },
          "metadata": {},
          "execution_count": 42
        }
      ]
    },
    {
      "cell_type": "markdown",
      "source": [
        "##Bitwise Operators"
      ],
      "metadata": {
        "id": "HUBXkKY61Bjm"
      }
    },
    {
      "cell_type": "markdown",
      "source": [
        "- &\n",
        "- |\n",
        "- ~\n",
        "- ^"
      ],
      "metadata": {
        "id": "ur58C1Od1Hyf"
      }
    },
    {
      "cell_type": "code",
      "source": [
        "a = 10\n",
        "b = 4"
      ],
      "metadata": {
        "id": "GgNHjTgG1WLy"
      },
      "execution_count": null,
      "outputs": []
    },
    {
      "cell_type": "code",
      "source": [
        "#Bitwise AND Operation\n",
        "a & b"
      ],
      "metadata": {
        "colab": {
          "base_uri": "https://localhost:8080/"
        },
        "id": "plklSDjG1ZWv",
        "outputId": "7f49ebc5-160b-488d-bffa-a92a4bf122ef"
      },
      "execution_count": null,
      "outputs": [
        {
          "output_type": "execute_result",
          "data": {
            "text/plain": [
              "0"
            ]
          },
          "metadata": {},
          "execution_count": 44
        }
      ]
    },
    {
      "cell_type": "code",
      "source": [
        "b & b"
      ],
      "metadata": {
        "colab": {
          "base_uri": "https://localhost:8080/"
        },
        "id": "iywJybgv1zf4",
        "outputId": "e3f445b7-f4b0-487b-c133-88cce59287c7"
      },
      "execution_count": null,
      "outputs": [
        {
          "output_type": "execute_result",
          "data": {
            "text/plain": [
              "4"
            ]
          },
          "metadata": {},
          "execution_count": 45
        }
      ]
    },
    {
      "cell_type": "code",
      "source": [
        "#Bitwise OR Operation\n",
        "a | b"
      ],
      "metadata": {
        "colab": {
          "base_uri": "https://localhost:8080/"
        },
        "id": "4jzoQH_n12hR",
        "outputId": "644b9f19-095e-43cb-fb33-8f32c0a4fb80"
      },
      "execution_count": null,
      "outputs": [
        {
          "output_type": "execute_result",
          "data": {
            "text/plain": [
              "14"
            ]
          },
          "metadata": {},
          "execution_count": 46
        }
      ]
    },
    {
      "cell_type": "code",
      "source": [
        "#Bitwise NOT Operation\n",
        "~ a"
      ],
      "metadata": {
        "colab": {
          "base_uri": "https://localhost:8080/"
        },
        "id": "LtsN0Xfd18bX",
        "outputId": "b41c7a01-91a0-4957-a0b1-1d7696389879"
      },
      "execution_count": null,
      "outputs": [
        {
          "output_type": "execute_result",
          "data": {
            "text/plain": [
              "-11"
            ]
          },
          "metadata": {},
          "execution_count": 47
        }
      ]
    },
    {
      "cell_type": "code",
      "source": [
        "#Bitwise XOR Operation\n",
        "a ^ b"
      ],
      "metadata": {
        "colab": {
          "base_uri": "https://localhost:8080/"
        },
        "id": "BcDevKux2Jtv",
        "outputId": "cab07256-0b91-4924-aa46-ebbffde024ad"
      },
      "execution_count": null,
      "outputs": [
        {
          "output_type": "execute_result",
          "data": {
            "text/plain": [
              "14"
            ]
          },
          "metadata": {},
          "execution_count": 48
        }
      ]
    },
    {
      "cell_type": "markdown",
      "source": [
        "##Membership Operator"
      ],
      "metadata": {
        "id": "VcOCVRA22SYD"
      }
    },
    {
      "cell_type": "markdown",
      "source": [
        "- in\n",
        "- not in"
      ],
      "metadata": {
        "id": "VJZMqp7j3m1T"
      }
    },
    {
      "cell_type": "code",
      "source": [
        "a = [1,2,3,4]\n",
        "2 in a"
      ],
      "metadata": {
        "colab": {
          "base_uri": "https://localhost:8080/"
        },
        "id": "Jk1ogY3d36TN",
        "outputId": "3c01cc3a-d7b2-4cd9-9822-a21289f0dfef"
      },
      "execution_count": null,
      "outputs": [
        {
          "output_type": "execute_result",
          "data": {
            "text/plain": [
              "True"
            ]
          },
          "metadata": {},
          "execution_count": 49
        }
      ]
    },
    {
      "cell_type": "code",
      "source": [
        "2 not in a"
      ],
      "metadata": {
        "colab": {
          "base_uri": "https://localhost:8080/"
        },
        "id": "z5NqXEBp4HFk",
        "outputId": "71bbf3d7-2b2a-437e-ba65-d319b45a1108"
      },
      "execution_count": null,
      "outputs": [
        {
          "output_type": "execute_result",
          "data": {
            "text/plain": [
              "False"
            ]
          },
          "metadata": {},
          "execution_count": 50
        }
      ]
    },
    {
      "cell_type": "code",
      "source": [
        "5 not in a"
      ],
      "metadata": {
        "colab": {
          "base_uri": "https://localhost:8080/"
        },
        "id": "xj8sxaKk4MK6",
        "outputId": "7e3274bf-b571-4a1c-96f3-cfea96d86c38"
      },
      "execution_count": null,
      "outputs": [
        {
          "output_type": "execute_result",
          "data": {
            "text/plain": [
              "True"
            ]
          },
          "metadata": {},
          "execution_count": 51
        }
      ]
    },
    {
      "cell_type": "code",
      "source": [
        "b = \"This is a string\"\n",
        "\"This\" in b"
      ],
      "metadata": {
        "colab": {
          "base_uri": "https://localhost:8080/"
        },
        "id": "27nE1huf4OIZ",
        "outputId": "1be31a1d-a488-4f06-c6ea-1b47d33564b0"
      },
      "execution_count": null,
      "outputs": [
        {
          "output_type": "execute_result",
          "data": {
            "text/plain": [
              "True"
            ]
          },
          "metadata": {},
          "execution_count": 53
        }
      ]
    },
    {
      "cell_type": "markdown",
      "source": [
        "##Identity Operators"
      ],
      "metadata": {
        "id": "bVBCqIG54StI"
      }
    },
    {
      "cell_type": "markdown",
      "source": [
        "- is\n",
        "- is not"
      ],
      "metadata": {
        "id": "sa_9wzGx4dz8"
      }
    },
    {
      "cell_type": "code",
      "source": [
        "a = 12"
      ],
      "metadata": {
        "id": "6IFAbONl4jt4"
      },
      "execution_count": null,
      "outputs": []
    },
    {
      "cell_type": "code",
      "source": [
        "a is 12"
      ],
      "metadata": {
        "colab": {
          "base_uri": "https://localhost:8080/"
        },
        "id": "i3aAhExW4m2v",
        "outputId": "0e3ea08e-8009-4407-b3e9-f078f1b5ba91"
      },
      "execution_count": null,
      "outputs": [
        {
          "output_type": "stream",
          "name": "stderr",
          "text": [
            "<>:1: SyntaxWarning: \"is\" with a literal. Did you mean \"==\"?\n",
            "<>:1: SyntaxWarning: \"is\" with a literal. Did you mean \"==\"?\n",
            "<ipython-input-55-57dc3ea06f9b>:1: SyntaxWarning: \"is\" with a literal. Did you mean \"==\"?\n",
            "  a is 12\n"
          ]
        },
        {
          "output_type": "execute_result",
          "data": {
            "text/plain": [
              "True"
            ]
          },
          "metadata": {},
          "execution_count": 55
        }
      ]
    },
    {
      "cell_type": "code",
      "source": [
        "type(a) is int"
      ],
      "metadata": {
        "colab": {
          "base_uri": "https://localhost:8080/"
        },
        "id": "Z1QZvPRr4t4u",
        "outputId": "772acedc-0137-414c-eeaf-779aad52fe6a"
      },
      "execution_count": null,
      "outputs": [
        {
          "output_type": "execute_result",
          "data": {
            "text/plain": [
              "True"
            ]
          },
          "metadata": {},
          "execution_count": 57
        }
      ]
    },
    {
      "cell_type": "code",
      "source": [
        "type(a) is not int"
      ],
      "metadata": {
        "colab": {
          "base_uri": "https://localhost:8080/"
        },
        "id": "g7u1ZqGV46Cc",
        "outputId": "b71b0979-e2a8-4bb6-c1a6-ee70c36024dd"
      },
      "execution_count": null,
      "outputs": [
        {
          "output_type": "execute_result",
          "data": {
            "text/plain": [
              "False"
            ]
          },
          "metadata": {},
          "execution_count": 58
        }
      ]
    },
    {
      "cell_type": "markdown",
      "source": [
        "#If and else"
      ],
      "metadata": {
        "id": "Y7Z40PcR5FZH"
      }
    },
    {
      "cell_type": "code",
      "source": [
        "a = \"String\"\n",
        "if a == \"String\":\n",
        "  print(\"Matched\")"
      ],
      "metadata": {
        "colab": {
          "base_uri": "https://localhost:8080/"
        },
        "id": "LIMCvFvi5N23",
        "outputId": "e2d46cc2-39de-4362-cd11-a37457d0706d"
      },
      "execution_count": null,
      "outputs": [
        {
          "output_type": "stream",
          "name": "stdout",
          "text": [
            "Matched\n"
          ]
        }
      ]
    },
    {
      "cell_type": "code",
      "source": [
        "if type(a) == str:\n",
        "  print(\"Type matched\")\n",
        "else:\n",
        "  print(\"Type not matched\")"
      ],
      "metadata": {
        "colab": {
          "base_uri": "https://localhost:8080/"
        },
        "id": "swyjggab5fMJ",
        "outputId": "57759d2b-64cd-4fa5-b310-f38169c2ffcf"
      },
      "execution_count": null,
      "outputs": [
        {
          "output_type": "stream",
          "name": "stdout",
          "text": [
            "Type matched\n"
          ]
        }
      ]
    },
    {
      "cell_type": "code",
      "source": [
        "b = [1,2,3,4]\n",
        "if type(b) == list:\n",
        "  print(\"Type matched\")\n",
        "else:\n",
        "  print(\"Type not matched\")"
      ],
      "metadata": {
        "colab": {
          "base_uri": "https://localhost:8080/"
        },
        "id": "W7q6zwpe8Evg",
        "outputId": "8c42d1da-5cb2-4684-dc4e-e7cca71a5cf6"
      },
      "execution_count": null,
      "outputs": [
        {
          "output_type": "stream",
          "name": "stdout",
          "text": [
            "Type matched\n"
          ]
        }
      ]
    },
    {
      "cell_type": "code",
      "source": [
        "len(b)"
      ],
      "metadata": {
        "colab": {
          "base_uri": "https://localhost:8080/"
        },
        "id": "-WVxsWVe8LI3",
        "outputId": "56968573-6b7f-44e4-9006-e4acf0c6a193"
      },
      "execution_count": null,
      "outputs": [
        {
          "output_type": "execute_result",
          "data": {
            "text/plain": [
              "4"
            ]
          },
          "metadata": {},
          "execution_count": 63
        }
      ]
    },
    {
      "cell_type": "code",
      "source": [
        "if len(b) == 4:\n",
        "  print(\"Length Matched\")"
      ],
      "metadata": {
        "colab": {
          "base_uri": "https://localhost:8080/"
        },
        "id": "CnIwEj1D8Zbz",
        "outputId": "272e4b4d-8a06-4a48-fdf4-b3662ffa3c20"
      },
      "execution_count": null,
      "outputs": [
        {
          "output_type": "stream",
          "name": "stdout",
          "text": [
            "Length Matched\n"
          ]
        }
      ]
    },
    {
      "cell_type": "code",
      "source": [
        "a = 3\n",
        "if a == 2:\n",
        "  print(\"Equal to 2\")\n",
        "elif a == 3:\n",
        "  print(\"Equal to 3\")\n",
        "else:\n",
        "  print(\"Not equal\")"
      ],
      "metadata": {
        "colab": {
          "base_uri": "https://localhost:8080/"
        },
        "id": "2OGNleG18jQR",
        "outputId": "471cf693-7d0f-4361-e3c5-be0c96672620"
      },
      "execution_count": null,
      "outputs": [
        {
          "output_type": "stream",
          "name": "stdout",
          "text": [
            "Equal to 3\n"
          ]
        }
      ]
    },
    {
      "cell_type": "code",
      "source": [
        "a = 5\n",
        "b = 3\n",
        "if a == 2:\n",
        "  if b == 3:\n",
        "    print(\"a equals two, b equals three\")\n",
        "  elif b == 4:\n",
        "    print(\"a equals two, b equals four\")\n",
        "  elif b == 5:\n",
        "    print(\"a equals two, b equals five\")\n",
        "  else:\n",
        "    print(\"a equals 2\")\n",
        "else:\n",
        "  if b == 3:\n",
        "    print(\"a is not equal to two, b equals three\")"
      ],
      "metadata": {
        "colab": {
          "base_uri": "https://localhost:8080/"
        },
        "id": "lOWGpScT858I",
        "outputId": "e14047b5-7098-469d-931a-3116eb2250b1"
      },
      "execution_count": null,
      "outputs": [
        {
          "output_type": "stream",
          "name": "stdout",
          "text": [
            "a is not equal to two, b equals three\n"
          ]
        }
      ]
    },
    {
      "cell_type": "markdown",
      "source": [
        "#Loops and Range"
      ],
      "metadata": {
        "id": "s_ZmNxVH9lRk"
      }
    },
    {
      "cell_type": "code",
      "source": [
        "#While loop\n",
        "a = 23\n",
        "while a > 12:\n",
        "  a -= 1\n",
        "  print(a)"
      ],
      "metadata": {
        "colab": {
          "base_uri": "https://localhost:8080/"
        },
        "id": "hhGBhXSr-Ksz",
        "outputId": "0a825e15-4e97-40a1-87b5-7e0063578a15"
      },
      "execution_count": null,
      "outputs": [
        {
          "output_type": "stream",
          "name": "stdout",
          "text": [
            "22\n",
            "21\n",
            "20\n",
            "19\n",
            "18\n",
            "17\n",
            "16\n",
            "15\n",
            "14\n",
            "13\n",
            "12\n"
          ]
        }
      ]
    },
    {
      "cell_type": "code",
      "source": [
        "a = 9\n",
        "while a < 20:\n",
        "  a += 1\n",
        "  print(a)"
      ],
      "metadata": {
        "colab": {
          "base_uri": "https://localhost:8080/"
        },
        "id": "61eCT_-jBZFy",
        "outputId": "2d7231b8-53ef-4400-c8a4-d3631cbcf6b4"
      },
      "execution_count": null,
      "outputs": [
        {
          "output_type": "stream",
          "name": "stdout",
          "text": [
            "10\n",
            "11\n",
            "12\n",
            "13\n",
            "14\n",
            "15\n",
            "16\n",
            "17\n",
            "18\n",
            "19\n",
            "20\n"
          ]
        }
      ]
    },
    {
      "cell_type": "code",
      "source": [
        "a = 0\n",
        "while a < 100:\n",
        "  a += 10\n",
        "  print(a)"
      ],
      "metadata": {
        "colab": {
          "base_uri": "https://localhost:8080/"
        },
        "id": "QuA_gr3GBk7q",
        "outputId": "c899642c-4363-4574-ba76-de3e2c10b7aa"
      },
      "execution_count": null,
      "outputs": [
        {
          "output_type": "stream",
          "name": "stdout",
          "text": [
            "10\n",
            "20\n",
            "30\n",
            "40\n",
            "50\n",
            "60\n",
            "70\n",
            "80\n",
            "90\n",
            "100\n"
          ]
        }
      ]
    },
    {
      "cell_type": "code",
      "source": [
        "b = [1,4,3,4,5]\n",
        "for i in b:\n",
        "  print(i)"
      ],
      "metadata": {
        "colab": {
          "base_uri": "https://localhost:8080/"
        },
        "id": "aT2o5lntB3Kz",
        "outputId": "722010ec-7196-4b2d-b1f3-5673f120b2c6"
      },
      "execution_count": null,
      "outputs": [
        {
          "output_type": "stream",
          "name": "stdout",
          "text": [
            "1\n",
            "4\n",
            "3\n",
            "4\n",
            "5\n"
          ]
        }
      ]
    },
    {
      "cell_type": "code",
      "source": [
        "for ele in b:\n",
        "  if ele == 4:\n",
        "    print(ele)"
      ],
      "metadata": {
        "colab": {
          "base_uri": "https://localhost:8080/"
        },
        "id": "PlAAOENQCHsA",
        "outputId": "2483b21d-6cb3-4919-8854-c5f991dd4811"
      },
      "execution_count": null,
      "outputs": [
        {
          "output_type": "stream",
          "name": "stdout",
          "text": [
            "4\n",
            "4\n"
          ]
        }
      ]
    },
    {
      "cell_type": "code",
      "source": [],
      "metadata": {
        "id": "BnkzsypZCfDz"
      },
      "execution_count": null,
      "outputs": []
    }
  ]
}